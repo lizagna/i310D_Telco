{
 "cells": [
  {
   "cell_type": "markdown",
   "id": "95c0bee1",
   "metadata": {},
   "source": [
    "## I310D: Telco Customer Churn\n",
    "\n",
    "### ChatCCP - Elizabeth Luu, Jamie Lee, Jihan Song, Yvonne Chen\n",
    "\n",
    "Identify users at risk of churn (act of customer no longer paying for services) and proposing a solution to limit churn for Telco (fictional company, data provided by IBM)"
   ]
  },
  {
   "cell_type": "markdown",
   "id": "0258f4c7",
   "metadata": {},
   "source": [
    "### 1. Data Inspection"
   ]
  },
  {
   "cell_type": "code",
   "execution_count": 4,
   "id": "eb04063b",
   "metadata": {},
   "outputs": [],
   "source": [
    "import pandas as pd\n",
    "import xlrd"
   ]
  },
  {
   "cell_type": "code",
   "execution_count": 5,
   "id": "79b4c0b6",
   "metadata": {},
   "outputs": [
    {
     "data": {
      "text/html": [
       "<div>\n",
       "<style scoped>\n",
       "    .dataframe tbody tr th:only-of-type {\n",
       "        vertical-align: middle;\n",
       "    }\n",
       "\n",
       "    .dataframe tbody tr th {\n",
       "        vertical-align: top;\n",
       "    }\n",
       "\n",
       "    .dataframe thead th {\n",
       "        text-align: right;\n",
       "    }\n",
       "</style>\n",
       "<table border=\"1\" class=\"dataframe\">\n",
       "  <thead>\n",
       "    <tr style=\"text-align: right;\">\n",
       "      <th></th>\n",
       "      <th>CustomerID</th>\n",
       "      <th>Count</th>\n",
       "      <th>Country</th>\n",
       "      <th>State</th>\n",
       "      <th>City</th>\n",
       "      <th>Zip Code</th>\n",
       "      <th>Lat Long</th>\n",
       "      <th>Latitude</th>\n",
       "      <th>Longitude</th>\n",
       "      <th>Gender</th>\n",
       "      <th>...</th>\n",
       "      <th>Contract</th>\n",
       "      <th>Paperless Billing</th>\n",
       "      <th>Payment Method</th>\n",
       "      <th>Monthly Charges</th>\n",
       "      <th>Total Charges</th>\n",
       "      <th>Churn Label</th>\n",
       "      <th>Churn Value</th>\n",
       "      <th>Churn Score</th>\n",
       "      <th>CLTV</th>\n",
       "      <th>Churn Reason</th>\n",
       "    </tr>\n",
       "  </thead>\n",
       "  <tbody>\n",
       "    <tr>\n",
       "      <th>0</th>\n",
       "      <td>3668-QPYBK</td>\n",
       "      <td>1</td>\n",
       "      <td>United States</td>\n",
       "      <td>California</td>\n",
       "      <td>Los Angeles</td>\n",
       "      <td>90003</td>\n",
       "      <td>33.964131, -118.272783</td>\n",
       "      <td>33.964131</td>\n",
       "      <td>-118.272783</td>\n",
       "      <td>Male</td>\n",
       "      <td>...</td>\n",
       "      <td>Month-to-month</td>\n",
       "      <td>Yes</td>\n",
       "      <td>Mailed check</td>\n",
       "      <td>53.85</td>\n",
       "      <td>108.15</td>\n",
       "      <td>Yes</td>\n",
       "      <td>1</td>\n",
       "      <td>86</td>\n",
       "      <td>3239</td>\n",
       "      <td>Competitor made better offer</td>\n",
       "    </tr>\n",
       "    <tr>\n",
       "      <th>1</th>\n",
       "      <td>9237-HQITU</td>\n",
       "      <td>1</td>\n",
       "      <td>United States</td>\n",
       "      <td>California</td>\n",
       "      <td>Los Angeles</td>\n",
       "      <td>90005</td>\n",
       "      <td>34.059281, -118.30742</td>\n",
       "      <td>34.059281</td>\n",
       "      <td>-118.307420</td>\n",
       "      <td>Female</td>\n",
       "      <td>...</td>\n",
       "      <td>Month-to-month</td>\n",
       "      <td>Yes</td>\n",
       "      <td>Electronic check</td>\n",
       "      <td>70.70</td>\n",
       "      <td>151.65</td>\n",
       "      <td>Yes</td>\n",
       "      <td>1</td>\n",
       "      <td>67</td>\n",
       "      <td>2701</td>\n",
       "      <td>Moved</td>\n",
       "    </tr>\n",
       "    <tr>\n",
       "      <th>2</th>\n",
       "      <td>9305-CDSKC</td>\n",
       "      <td>1</td>\n",
       "      <td>United States</td>\n",
       "      <td>California</td>\n",
       "      <td>Los Angeles</td>\n",
       "      <td>90006</td>\n",
       "      <td>34.048013, -118.293953</td>\n",
       "      <td>34.048013</td>\n",
       "      <td>-118.293953</td>\n",
       "      <td>Female</td>\n",
       "      <td>...</td>\n",
       "      <td>Month-to-month</td>\n",
       "      <td>Yes</td>\n",
       "      <td>Electronic check</td>\n",
       "      <td>99.65</td>\n",
       "      <td>820.5</td>\n",
       "      <td>Yes</td>\n",
       "      <td>1</td>\n",
       "      <td>86</td>\n",
       "      <td>5372</td>\n",
       "      <td>Moved</td>\n",
       "    </tr>\n",
       "    <tr>\n",
       "      <th>3</th>\n",
       "      <td>7892-POOKP</td>\n",
       "      <td>1</td>\n",
       "      <td>United States</td>\n",
       "      <td>California</td>\n",
       "      <td>Los Angeles</td>\n",
       "      <td>90010</td>\n",
       "      <td>34.062125, -118.315709</td>\n",
       "      <td>34.062125</td>\n",
       "      <td>-118.315709</td>\n",
       "      <td>Female</td>\n",
       "      <td>...</td>\n",
       "      <td>Month-to-month</td>\n",
       "      <td>Yes</td>\n",
       "      <td>Electronic check</td>\n",
       "      <td>104.80</td>\n",
       "      <td>3046.05</td>\n",
       "      <td>Yes</td>\n",
       "      <td>1</td>\n",
       "      <td>84</td>\n",
       "      <td>5003</td>\n",
       "      <td>Moved</td>\n",
       "    </tr>\n",
       "    <tr>\n",
       "      <th>4</th>\n",
       "      <td>0280-XJGEX</td>\n",
       "      <td>1</td>\n",
       "      <td>United States</td>\n",
       "      <td>California</td>\n",
       "      <td>Los Angeles</td>\n",
       "      <td>90015</td>\n",
       "      <td>34.039224, -118.266293</td>\n",
       "      <td>34.039224</td>\n",
       "      <td>-118.266293</td>\n",
       "      <td>Male</td>\n",
       "      <td>...</td>\n",
       "      <td>Month-to-month</td>\n",
       "      <td>Yes</td>\n",
       "      <td>Bank transfer (automatic)</td>\n",
       "      <td>103.70</td>\n",
       "      <td>5036.3</td>\n",
       "      <td>Yes</td>\n",
       "      <td>1</td>\n",
       "      <td>89</td>\n",
       "      <td>5340</td>\n",
       "      <td>Competitor had better devices</td>\n",
       "    </tr>\n",
       "  </tbody>\n",
       "</table>\n",
       "<p>5 rows × 33 columns</p>\n",
       "</div>"
      ],
      "text/plain": [
       "   CustomerID  Count        Country       State         City  Zip Code  \\\n",
       "0  3668-QPYBK      1  United States  California  Los Angeles     90003   \n",
       "1  9237-HQITU      1  United States  California  Los Angeles     90005   \n",
       "2  9305-CDSKC      1  United States  California  Los Angeles     90006   \n",
       "3  7892-POOKP      1  United States  California  Los Angeles     90010   \n",
       "4  0280-XJGEX      1  United States  California  Los Angeles     90015   \n",
       "\n",
       "                 Lat Long   Latitude   Longitude  Gender  ...        Contract  \\\n",
       "0  33.964131, -118.272783  33.964131 -118.272783    Male  ...  Month-to-month   \n",
       "1   34.059281, -118.30742  34.059281 -118.307420  Female  ...  Month-to-month   \n",
       "2  34.048013, -118.293953  34.048013 -118.293953  Female  ...  Month-to-month   \n",
       "3  34.062125, -118.315709  34.062125 -118.315709  Female  ...  Month-to-month   \n",
       "4  34.039224, -118.266293  34.039224 -118.266293    Male  ...  Month-to-month   \n",
       "\n",
       "  Paperless Billing             Payment Method  Monthly Charges Total Charges  \\\n",
       "0               Yes               Mailed check            53.85        108.15   \n",
       "1               Yes           Electronic check            70.70        151.65   \n",
       "2               Yes           Electronic check            99.65         820.5   \n",
       "3               Yes           Electronic check           104.80       3046.05   \n",
       "4               Yes  Bank transfer (automatic)           103.70        5036.3   \n",
       "\n",
       "  Churn Label Churn Value Churn Score  CLTV                   Churn Reason  \n",
       "0         Yes           1          86  3239   Competitor made better offer  \n",
       "1         Yes           1          67  2701                          Moved  \n",
       "2         Yes           1          86  5372                          Moved  \n",
       "3         Yes           1          84  5003                          Moved  \n",
       "4         Yes           1          89  5340  Competitor had better devices  \n",
       "\n",
       "[5 rows x 33 columns]"
      ]
     },
     "execution_count": 5,
     "metadata": {},
     "output_type": "execute_result"
    }
   ],
   "source": [
    "telco_df = pd.read_excel('Telco_customer_churn.xlsx')\n",
    "telco_df.head()"
   ]
  },
  {
   "cell_type": "markdown",
   "id": "007d2e28",
   "metadata": {},
   "source": [
    "There are unnecessary (redundant) columns that could be erased. For example, Country, State, City, Lat Long, Latitude, and Longtitude can be replaced by Zip code. Column Count can also be removed since it only has 1 value as 1 for every column. After running the model, we can inspect more in-depth by comparing accuracy drop. Also, it looks like \"Churn Reason\" could be effectively used for qualitative research later. So, we are going to have two separate datasets for (1) training model (2) qualitative research."
   ]
  },
  {
   "cell_type": "code",
   "execution_count": 6,
   "id": "5f2499da",
   "metadata": {},
   "outputs": [],
   "source": [
    "# create dataframe for model \n",
    "model_df = telco_df[['Zip Code', 'Gender', 'Senior Citizen', 'Partner',\n",
    "       'Dependents', 'Tenure Months', 'Phone Service', 'Multiple Lines',\n",
    "       'Internet Service', 'Online Security', 'Online Backup',\n",
    "       'Device Protection', 'Tech Support', 'Streaming TV', 'Streaming Movies',\n",
    "       'Contract', 'Paperless Billing', 'Payment Method', 'Monthly Charges',\n",
    "       'Total Charges', 'Churn Value', 'CLTV','Churn Score']].copy() \n",
    "# create dataframe for qualitative research\n",
    "churn_reason_df = telco_df[['CustomerID','Churn Reason']].copy()"
   ]
  },
  {
   "cell_type": "markdown",
   "id": "cd0cb103",
   "metadata": {},
   "source": [
    "### 2. Training the model\n",
    "\n",
    "(a) drop the possible duplicates and rows with NA value and store features and label in two different dataframe"
   ]
  },
  {
   "cell_type": "code",
   "execution_count": 4,
   "id": "c8a317a7",
   "metadata": {},
   "outputs": [],
   "source": [
    "model_df = model_df.drop_duplicates()\n",
    "model_df = model_df.dropna()\n",
    "\n",
    "# create separate df for categorical for OHE\n",
    "model_feature_categorical = model_df[['Zip Code','Gender', 'Senior Citizen', 'Partner',\n",
    "       'Dependents', 'Phone Service', 'Multiple Lines',\n",
    "       'Internet Service', 'Online Security', 'Online Backup',\n",
    "       'Device Protection', 'Tech Support', 'Streaming TV', 'Streaming Movies',\n",
    "       'Contract', 'Paperless Billing', 'Payment Method']].copy()\n",
    "model_feature_continuous = model_df[['Tenure Months', 'Monthly Charges',\n",
    "       'Total Charges', 'CLTV','Churn Score']].copy()\n",
    "\n",
    "model_label = model_df[['Churn Value']].copy()"
   ]
  },
  {
   "cell_type": "markdown",
   "id": "626fd295",
   "metadata": {},
   "source": [
    "(b) transform categorical vectors using one-hot-encoder and scale features"
   ]
  },
  {
   "cell_type": "code",
   "execution_count": 5,
   "id": "744b608c",
   "metadata": {},
   "outputs": [],
   "source": [
    "model_feature_categorical = pd.get_dummies(data = model_feature_categorical)"
   ]
  },
  {
   "cell_type": "code",
   "execution_count": 6,
   "id": "dbba1ce8",
   "metadata": {},
   "outputs": [],
   "source": [
    "# zip code OHE - did not work with dummies \n",
    "from sklearn.preprocessing import OneHotEncoder\n",
    "\n",
    "zip_to_list = model_feature_categorical[\"Zip Code\"].to_list()\n",
    "zip_to_list_of_lists = []\n",
    "\n",
    "for zc in zip_to_list:\n",
    "    zip_to_list_of_lists.append([zc])\n",
    "\n",
    "zip_ohe = OneHotEncoder()\n",
    "zip_ohe.fit(zip_to_list_of_lists)\n",
    "\n",
    "zip_transformed = zip_ohe.transform(zip_to_list_of_lists)\n",
    "zip_transformed = zip_transformed.toarray()\n",
    "zip_transformed_df = pd.DataFrame(zip_transformed)\n",
    "\n",
    "model_feature_categorical.reset_index(drop = True, inplace = True)\n",
    "zip_transformed_df.reset_index(drop = True, inplace = True)\n",
    "\n",
    "model_feature_categorical = pd.concat([model_feature_categorical, zip_transformed_df], axis = 1)\n",
    "model_feature_categorical = model_feature_categorical.drop(columns=[\"Zip Code\"], axis = 1)"
   ]
  },
  {
   "cell_type": "code",
   "execution_count": 7,
   "id": "333a336b",
   "metadata": {},
   "outputs": [
    {
     "data": {
      "text/html": [
       "<div>\n",
       "<style scoped>\n",
       "    .dataframe tbody tr th:only-of-type {\n",
       "        vertical-align: middle;\n",
       "    }\n",
       "\n",
       "    .dataframe tbody tr th {\n",
       "        vertical-align: top;\n",
       "    }\n",
       "\n",
       "    .dataframe thead th {\n",
       "        text-align: right;\n",
       "    }\n",
       "</style>\n",
       "<table border=\"1\" class=\"dataframe\">\n",
       "  <thead>\n",
       "    <tr style=\"text-align: right;\">\n",
       "      <th></th>\n",
       "      <th>Tenure Months</th>\n",
       "      <th>Monthly Charges</th>\n",
       "      <th>Total Charges</th>\n",
       "      <th>CLTV</th>\n",
       "      <th>Churn Score</th>\n",
       "    </tr>\n",
       "  </thead>\n",
       "  <tbody>\n",
       "    <tr>\n",
       "      <th>0</th>\n",
       "      <td>-1.236724</td>\n",
       "      <td>-0.362660</td>\n",
       "      <td>-0.958066</td>\n",
       "      <td>-0.981675</td>\n",
       "      <td>1.268402</td>\n",
       "    </tr>\n",
       "    <tr>\n",
       "      <th>1</th>\n",
       "      <td>-1.236724</td>\n",
       "      <td>0.197365</td>\n",
       "      <td>-0.938874</td>\n",
       "      <td>-1.436462</td>\n",
       "      <td>0.385650</td>\n",
       "    </tr>\n",
       "    <tr>\n",
       "      <th>2</th>\n",
       "      <td>-0.992402</td>\n",
       "      <td>1.159546</td>\n",
       "      <td>-0.643789</td>\n",
       "      <td>0.821409</td>\n",
       "      <td>1.268402</td>\n",
       "    </tr>\n",
       "    <tr>\n",
       "      <th>3</th>\n",
       "      <td>-0.177995</td>\n",
       "      <td>1.330711</td>\n",
       "      <td>0.338085</td>\n",
       "      <td>0.509483</td>\n",
       "      <td>1.175481</td>\n",
       "    </tr>\n",
       "    <tr>\n",
       "      <th>4</th>\n",
       "      <td>0.677133</td>\n",
       "      <td>1.294151</td>\n",
       "      <td>1.216150</td>\n",
       "      <td>0.794358</td>\n",
       "      <td>1.407784</td>\n",
       "    </tr>\n",
       "  </tbody>\n",
       "</table>\n",
       "</div>"
      ],
      "text/plain": [
       "   Tenure Months  Monthly Charges  Total Charges      CLTV  Churn Score\n",
       "0      -1.236724        -0.362660      -0.958066 -0.981675     1.268402\n",
       "1      -1.236724         0.197365      -0.938874 -1.436462     0.385650\n",
       "2      -0.992402         1.159546      -0.643789  0.821409     1.268402\n",
       "3      -0.177995         1.330711       0.338085  0.509483     1.175481\n",
       "4       0.677133         1.294151       1.216150  0.794358     1.407784"
      ]
     },
     "execution_count": 7,
     "metadata": {},
     "output_type": "execute_result"
    }
   ],
   "source": [
    "from sklearn.preprocessing import StandardScaler\n",
    "\n",
    "# need to clean the data first\n",
    "def clean(s):\n",
    "    if isinstance(s, str):\n",
    "        s = s.replace(\" \",\"\")\n",
    "        try:\n",
    "            s = float(s)\n",
    "        except:\n",
    "            s = False\n",
    "    \n",
    "    return s\n",
    "\n",
    "model_feature_continuous[\"Tenure Months\"] = model_feature_continuous[\"Tenure Months\"].apply(clean)\n",
    "model_feature_continuous[\"Monthly Charges\"] = model_feature_continuous[\"Monthly Charges\"].apply(clean)\n",
    "model_feature_continuous[\"Total Charges\"] = model_feature_continuous[\"Total Charges\"].apply(clean)\n",
    "model_feature_continuous[\"CLTV\"] = model_feature_continuous[\"CLTV\"].apply(clean)\n",
    "model_feature_continuous[\"Churn Score\"] = model_feature_continuous[\"Churn Score\"].apply(clean)\n",
    "\n",
    "\n",
    "# then scale\n",
    "scaler = StandardScaler()\n",
    "all_columns = model_feature_continuous.columns\n",
    "\n",
    "model_feature_continuous[all_columns] = scaler.fit_transform(model_feature_continuous[all_columns])\n",
    "model_feature_continuous.head()"
   ]
  },
  {
   "cell_type": "code",
   "execution_count": 8,
   "id": "2aed70e9",
   "metadata": {},
   "outputs": [],
   "source": [
    "model_feature = pd.concat([model_feature_continuous.reset_index(drop=True),\n",
    "                           model_feature_categorical.reset_index(drop=True)], axis=1)"
   ]
  },
  {
   "cell_type": "code",
   "execution_count": 9,
   "id": "a8fb6279",
   "metadata": {},
   "outputs": [
    {
     "data": {
      "text/html": [
       "<div>\n",
       "<style scoped>\n",
       "    .dataframe tbody tr th:only-of-type {\n",
       "        vertical-align: middle;\n",
       "    }\n",
       "\n",
       "    .dataframe tbody tr th {\n",
       "        vertical-align: top;\n",
       "    }\n",
       "\n",
       "    .dataframe thead th {\n",
       "        text-align: right;\n",
       "    }\n",
       "</style>\n",
       "<table border=\"1\" class=\"dataframe\">\n",
       "  <thead>\n",
       "    <tr style=\"text-align: right;\">\n",
       "      <th></th>\n",
       "      <th>Tenure Months</th>\n",
       "      <th>Monthly Charges</th>\n",
       "      <th>Total Charges</th>\n",
       "      <th>CLTV</th>\n",
       "      <th>Churn Score</th>\n",
       "      <th>Gender_Female</th>\n",
       "      <th>Gender_Male</th>\n",
       "      <th>Senior Citizen_No</th>\n",
       "      <th>Senior Citizen_Yes</th>\n",
       "      <th>Partner_No</th>\n",
       "      <th>...</th>\n",
       "      <th>1642</th>\n",
       "      <th>1643</th>\n",
       "      <th>1644</th>\n",
       "      <th>1645</th>\n",
       "      <th>1646</th>\n",
       "      <th>1647</th>\n",
       "      <th>1648</th>\n",
       "      <th>1649</th>\n",
       "      <th>1650</th>\n",
       "      <th>1651</th>\n",
       "    </tr>\n",
       "  </thead>\n",
       "  <tbody>\n",
       "    <tr>\n",
       "      <th>0</th>\n",
       "      <td>-1.236724</td>\n",
       "      <td>-0.362660</td>\n",
       "      <td>-0.958066</td>\n",
       "      <td>-0.981675</td>\n",
       "      <td>1.268402</td>\n",
       "      <td>0</td>\n",
       "      <td>1</td>\n",
       "      <td>1</td>\n",
       "      <td>0</td>\n",
       "      <td>1</td>\n",
       "      <td>...</td>\n",
       "      <td>0.0</td>\n",
       "      <td>0.0</td>\n",
       "      <td>0.0</td>\n",
       "      <td>0.0</td>\n",
       "      <td>0.0</td>\n",
       "      <td>0.0</td>\n",
       "      <td>0.0</td>\n",
       "      <td>0.0</td>\n",
       "      <td>0.0</td>\n",
       "      <td>0.0</td>\n",
       "    </tr>\n",
       "    <tr>\n",
       "      <th>1</th>\n",
       "      <td>-1.236724</td>\n",
       "      <td>0.197365</td>\n",
       "      <td>-0.938874</td>\n",
       "      <td>-1.436462</td>\n",
       "      <td>0.385650</td>\n",
       "      <td>1</td>\n",
       "      <td>0</td>\n",
       "      <td>1</td>\n",
       "      <td>0</td>\n",
       "      <td>1</td>\n",
       "      <td>...</td>\n",
       "      <td>0.0</td>\n",
       "      <td>0.0</td>\n",
       "      <td>0.0</td>\n",
       "      <td>0.0</td>\n",
       "      <td>0.0</td>\n",
       "      <td>0.0</td>\n",
       "      <td>0.0</td>\n",
       "      <td>0.0</td>\n",
       "      <td>0.0</td>\n",
       "      <td>0.0</td>\n",
       "    </tr>\n",
       "    <tr>\n",
       "      <th>2</th>\n",
       "      <td>-0.992402</td>\n",
       "      <td>1.159546</td>\n",
       "      <td>-0.643789</td>\n",
       "      <td>0.821409</td>\n",
       "      <td>1.268402</td>\n",
       "      <td>1</td>\n",
       "      <td>0</td>\n",
       "      <td>1</td>\n",
       "      <td>0</td>\n",
       "      <td>1</td>\n",
       "      <td>...</td>\n",
       "      <td>0.0</td>\n",
       "      <td>0.0</td>\n",
       "      <td>0.0</td>\n",
       "      <td>0.0</td>\n",
       "      <td>0.0</td>\n",
       "      <td>0.0</td>\n",
       "      <td>0.0</td>\n",
       "      <td>0.0</td>\n",
       "      <td>0.0</td>\n",
       "      <td>0.0</td>\n",
       "    </tr>\n",
       "    <tr>\n",
       "      <th>3</th>\n",
       "      <td>-0.177995</td>\n",
       "      <td>1.330711</td>\n",
       "      <td>0.338085</td>\n",
       "      <td>0.509483</td>\n",
       "      <td>1.175481</td>\n",
       "      <td>1</td>\n",
       "      <td>0</td>\n",
       "      <td>1</td>\n",
       "      <td>0</td>\n",
       "      <td>0</td>\n",
       "      <td>...</td>\n",
       "      <td>0.0</td>\n",
       "      <td>0.0</td>\n",
       "      <td>0.0</td>\n",
       "      <td>0.0</td>\n",
       "      <td>0.0</td>\n",
       "      <td>0.0</td>\n",
       "      <td>0.0</td>\n",
       "      <td>0.0</td>\n",
       "      <td>0.0</td>\n",
       "      <td>0.0</td>\n",
       "    </tr>\n",
       "    <tr>\n",
       "      <th>4</th>\n",
       "      <td>0.677133</td>\n",
       "      <td>1.294151</td>\n",
       "      <td>1.216150</td>\n",
       "      <td>0.794358</td>\n",
       "      <td>1.407784</td>\n",
       "      <td>0</td>\n",
       "      <td>1</td>\n",
       "      <td>1</td>\n",
       "      <td>0</td>\n",
       "      <td>1</td>\n",
       "      <td>...</td>\n",
       "      <td>0.0</td>\n",
       "      <td>0.0</td>\n",
       "      <td>0.0</td>\n",
       "      <td>0.0</td>\n",
       "      <td>0.0</td>\n",
       "      <td>0.0</td>\n",
       "      <td>0.0</td>\n",
       "      <td>0.0</td>\n",
       "      <td>0.0</td>\n",
       "      <td>0.0</td>\n",
       "    </tr>\n",
       "  </tbody>\n",
       "</table>\n",
       "<p>5 rows × 1700 columns</p>\n",
       "</div>"
      ],
      "text/plain": [
       "   Tenure Months  Monthly Charges  Total Charges      CLTV  Churn Score  \\\n",
       "0      -1.236724        -0.362660      -0.958066 -0.981675     1.268402   \n",
       "1      -1.236724         0.197365      -0.938874 -1.436462     0.385650   \n",
       "2      -0.992402         1.159546      -0.643789  0.821409     1.268402   \n",
       "3      -0.177995         1.330711       0.338085  0.509483     1.175481   \n",
       "4       0.677133         1.294151       1.216150  0.794358     1.407784   \n",
       "\n",
       "   Gender_Female  Gender_Male  Senior Citizen_No  Senior Citizen_Yes  \\\n",
       "0              0            1                  1                   0   \n",
       "1              1            0                  1                   0   \n",
       "2              1            0                  1                   0   \n",
       "3              1            0                  1                   0   \n",
       "4              0            1                  1                   0   \n",
       "\n",
       "   Partner_No  ...  1642  1643  1644  1645  1646  1647  1648  1649  1650  1651  \n",
       "0           1  ...   0.0   0.0   0.0   0.0   0.0   0.0   0.0   0.0   0.0   0.0  \n",
       "1           1  ...   0.0   0.0   0.0   0.0   0.0   0.0   0.0   0.0   0.0   0.0  \n",
       "2           1  ...   0.0   0.0   0.0   0.0   0.0   0.0   0.0   0.0   0.0   0.0  \n",
       "3           0  ...   0.0   0.0   0.0   0.0   0.0   0.0   0.0   0.0   0.0   0.0  \n",
       "4           1  ...   0.0   0.0   0.0   0.0   0.0   0.0   0.0   0.0   0.0   0.0  \n",
       "\n",
       "[5 rows x 1700 columns]"
      ]
     },
     "execution_count": 9,
     "metadata": {},
     "output_type": "execute_result"
    }
   ],
   "source": [
    "model_feature.head()"
   ]
  },
  {
   "cell_type": "markdown",
   "id": "62e9baad",
   "metadata": {},
   "source": [
    "(c) divide the dataset (using k-fold, k=5)"
   ]
  },
  {
   "cell_type": "code",
   "execution_count": 10,
   "id": "44f22989",
   "metadata": {},
   "outputs": [
    {
     "name": "stdout",
     "output_type": "stream",
     "text": [
      "Fold 1 training data shape = ((5070, 1700), (5070, 1))\n",
      "Fold 1 validation data shape = ((1268, 1700), (1268, 1))\n",
      "Fold 2 training data shape = ((5070, 1700), (5070, 1))\n",
      "Fold 2 validation data shape = ((1268, 1700), (1268, 1))\n",
      "Fold 3 training data shape = ((5070, 1700), (5070, 1))\n",
      "Fold 3 validation data shape = ((1268, 1700), (1268, 1))\n",
      "Fold 4 training data shape = ((5071, 1700), (5071, 1))\n",
      "Fold 4 validation data shape = ((1267, 1700), (1267, 1))\n",
      "Fold 5 training data shape = ((5071, 1700), (5071, 1))\n",
      "Fold 5 validation data shape = ((1267, 1700), (1267, 1))\n"
     ]
    }
   ],
   "source": [
    "from sklearn.model_selection import train_test_split\n",
    "from sklearn.model_selection import KFold\n",
    "\n",
    "# extract test data and store it in x_test, y_test\n",
    "features = model_feature.to_numpy()\n",
    "labels = model_label.to_numpy()\n",
    "_x, x_test, _y, y_test = train_test_split(features, labels, test_size=0.10, random_state=42)\n",
    "\n",
    "# set k = 5\n",
    "k = 5\n",
    "\n",
    "kfold_spliiter = KFold(n_splits=k)\n",
    "\n",
    "folds_data = []\n",
    "\n",
    "fold = 1\n",
    "for train_index, validation_index in kfold_spliiter.split(_x):\n",
    "    x_train , x_valid = _x[train_index,:],_x[validation_index,:]\n",
    "    y_train , y_valid = _y[train_index,:] , _y[validation_index,:]\n",
    "    print (f\"Fold {fold} training data shape = {(x_train.shape,y_train.shape)}\")\n",
    "    print (f\"Fold {fold} validation data shape = {(x_valid.shape,y_valid.shape)}\")\n",
    "    fold+=1\n",
    "    folds_data.append((x_train,y_train,x_valid,y_valid))"
   ]
  },
  {
   "cell_type": "markdown",
   "id": "398280c7",
   "metadata": {},
   "source": [
    "(d) train and run the model"
   ]
  },
  {
   "cell_type": "code",
   "execution_count": 12,
   "id": "3a4a4750",
   "metadata": {
    "code_folding": [
     10,
     20
    ]
   },
   "outputs": [],
   "source": [
    "from sklearn.svm import SVC\n",
    "from sklearn.metrics import accuracy_score\n",
    "\n",
    "# Keep all the models in a dictionary\n",
    "\n",
    "svm_linear = SVC(kernel=\"linear\")\n",
    "svm_poly2 = SVC(kernel=\"poly\",degree=2)\n",
    "svm_poly3 = SVC(kernel=\"poly\",degree=3)\n",
    "svm_poly4 = SVC(kernel=\"poly\",degree=4)\n",
    "\n",
    "all_models = {\"svm_linear\":svm_linear,\n",
    "              \"svm_poly2\":svm_poly2, \n",
    "              \"svm_poly3\":svm_poly3,\n",
    "              \"svm_poly4\":svm_poly4}\n",
    "\n",
    "best_validation_accuracy = 0\n",
    "best_model_name = \"\"\n",
    "best_model = None\n",
    "\n",
    "# Iterate over all models\n",
    "for model_name in all_models.keys():\n",
    "    \n",
    "    print (f\"Evaluating {model_name} ...\")\n",
    "    model = all_models[model_name]\n",
    "    \n",
    "    # Let's store training and validation accuracies for all folds\n",
    "    train_acc_for_all_folds = []\n",
    "    valid_acc_for_all_folds = []\n",
    "    \n",
    "    #Iterate over all folds\n",
    "    for i, fold in enumerate(folds_data):\n",
    "        x_train, y_train, x_valid, y_valid = fold\n",
    "\n",
    "        # Train the model\n",
    "        _ = model.fit(x_train,y_train.flatten())\n",
    "\n",
    "        # Evluate model on training data\n",
    "        y_pred_train = model.predict(x_train)\n",
    "        \n",
    "        # Evaluate the model on validation data\n",
    "        y_pred_valid = model.predict(x_valid)\n",
    "        \n",
    "        # Compute training accuracy\n",
    "        train_acc = accuracy_score(y_pred_train , y_train.flatten())\n",
    "        \n",
    "        # Store training accuracy for each folds\n",
    "        train_acc_for_all_folds.append(train_acc)\n",
    "        \n",
    "        # Compute validation accuracy\n",
    "        valid_acc = accuracy_score(y_pred_valid , y_valid.flatten())\n",
    "\n",
    "        # Store validation accuracy for each folds\n",
    "        valid_acc_for_all_folds.append(valid_acc)\n",
    "    \n",
    "    #average training accuracy across k folds\n",
    "    avg_training_acc = sum(train_acc_for_all_folds)/k\n",
    "    \n",
    "    print (f\"Average training accuracy for model {model_name} = {avg_training_acc}\")\n",
    "    \n",
    "    #average validation accuracy across k folds\n",
    "    avg_validation_acc = sum(valid_acc_for_all_folds)/k\n",
    "    \n",
    "    print (f\"Average validation accuracy for model {model_name} = {avg_validation_acc}\")\n",
    "    \n",
    "    # Select best model based on average validation accuracy\n",
    "    if avg_validation_acc > best_validation_accuracy:\n",
    "        best_validation_accuracy = avg_validation_acc\n",
    "        best_model_name = model_name\n",
    "        best_model = model\n",
    "    print (f\"-----------------------------------\")\n",
    "\n",
    "print (f\"Best model for the task is {best_model_name} which offers the validation accuracy of {best_validation_accuracy}\")"
   ]
  },
  {
   "cell_type": "code",
   "execution_count": null,
   "id": "fe66c6e5",
   "metadata": {},
   "outputs": [],
   "source": [
    "# the number of unique vlaue == number of features after OHE in that col\n",
    "\n",
    "mfc = model_df[['Zip Code','Gender', 'Senior Citizen', 'Partner',\n",
    "       'Dependents', 'Phone Service', 'Multiple Lines',\n",
    "       'Internet Service', 'Online Security', 'Online Backup',\n",
    "       'Device Protection', 'Tech Support', 'Streaming TV', 'Streaming Movies',\n",
    "       'Contract', 'Paperless Billing', 'Payment Method']].copy()\n",
    "\n",
    "for col in mfc.columns:\n",
    "    print(col,':',len(mfc[col].unique()),'labels')"
   ]
  },
  {
   "cell_type": "markdown",
   "id": "c1edef14",
   "metadata": {},
   "source": [
    "### 3. Feature Re-Selection by Ablation Test"
   ]
  },
  {
   "cell_type": "code",
   "execution_count": 13,
   "id": "9071e959",
   "metadata": {},
   "outputs": [
    {
     "name": "stdout",
     "output_type": "stream",
     "text": [
      "Removing feature \"NO ABLATION\"\n",
      "Average_cv_score: \"0.919849417013786\"\n",
      "Removing feature \"Tenure Months\"\n",
      "Average_cv_score: \"0.919691812797064\"\n",
      "Removing feature \"Monthly Charges\"\n",
      "Average_cv_score: \"0.9201651234068404\"\n",
      "Removing feature \"Total Charges\"\n",
      "Average_cv_score: \"0.9211116201364907\"\n",
      "Removing feature \"CLTV\"\n",
      "Average_cv_score: \"0.9222155965929604\"\n",
      "Removing feature \"Churn Score\"\n",
      "Average_cv_score: \"0.8079832884754717\"\n",
      "Removing feature \"Gender\"\n",
      "Average_cv_score: \"0.9215845572765593\"\n",
      "Removing feature \"Senior Citizen\"\n",
      "Average_cv_score: \"0.9198492925238835\"\n",
      "Removing feature \"Partner\"\n",
      "Average_cv_score: \"0.9201649989169379\"\n",
      "Removing feature \"Dependents\"\n",
      "Average_cv_score: \"0.9168515756686976\"\n",
      "Removing feature \"Phone Service\"\n",
      "Average_cv_score: \"0.919375981914107\"\n",
      "Removing feature \"Multiple Lines\"\n",
      "Average_cv_score: \"0.9207954157838257\"\n",
      "Removing feature \"Internet Service\"\n",
      "Average_cv_score: \"0.9204800828604792\"\n",
      "Removing feature \"Online Security\"\n",
      "Average_cv_score: \"0.919533586130829\"\n",
      "Removing feature \"Online Backup\"\n",
      "Average_cv_score: \"0.9204798338806739\"\n",
      "Removing feature \"Device Protection\"\n",
      "Average_cv_score: \"0.9203223541538545\"\n",
      "Removing feature \"Tech Support\"\n",
      "Average_cv_score: \"0.9209536424500608\"\n",
      "Removing feature \"Streaming TV\"\n",
      "Average_cv_score: \"0.9192185021872875\"\n",
      "Removing feature \"Streaming Movies\"\n",
      "Average_cv_score: \"0.9198492925238835\"\n",
      "Removing feature \"Contract\"\n",
      "Average_cv_score: \"0.9203221051740493\"\n",
      "Removing feature \"Paperless Billing\"\n",
      "Average_cv_score: \"0.9220572454368228\"\n",
      "Removing feature \"Payment Method\"\n",
      "Average_cv_score: \"0.9217420370033788\"\n",
      "Removing feature \"Zip Code\"\n",
      "Average_cv_score: \"0.9201645009573275\"\n"
     ]
    }
   ],
   "source": [
    "from sklearn.model_selection import cross_val_score\n",
    "import numpy as np\n",
    "\n",
    "# Let's run ablation tests on our best model - svm_poly, degree = 2\n",
    "best_model = SVC(kernel=\"poly\",degree=2)\n",
    "\n",
    "# feature and its no. of columns dictionary\n",
    "dic = {\"NO ABLATION\":0, \"Tenure Months\": 1, \"Monthly Charges\": 1, \n",
    "       \"Total Charges\":1,\"CLTV\":1, \"Churn Score\":1,'Gender':2, 'Senior Citizen':2, 'Partner':2,\n",
    "       'Dependents':2, 'Phone Service':2, 'Multiple Lines':3,\n",
    "       'Internet Service':3, 'Online Security':3, 'Online Backup':3,\n",
    "       'Device Protection':3, 'Tech Support':3, 'Streaming TV':3, 'Streaming Movies':3,\n",
    "       'Contract':3, 'Paperless Billing':2, 'Payment Method':4,'Zip Code':1652}\n",
    "\n",
    "keysList = list(dic.keys())\n",
    "\n",
    "# Let's maintain an accuracy dictionary\n",
    "accuracy_log = {}\n",
    "\n",
    "ind = 0\n",
    "\n",
    "for feature_name in keysList:\n",
    "    print (f\"Removing feature \\\"{feature_name}\\\"\")\n",
    "    step = dic[feature_name]\n",
    "    x_ablated = np.delete(_x,np.s_[ind:ind+step],axis=1)\n",
    "    cv_scores = cross_val_score(best_model,x_ablated,_y.flatten(), cv=k, n_jobs=4)\n",
    "    average_cv_score = cv_scores.mean()\n",
    "    print (f\"Average_cv_score: \\\"{average_cv_score}\\\"\")\n",
    "    accuracy_log[feature_name] = average_cv_score\n",
    "    ind += step"
   ]
  },
  {
   "cell_type": "code",
   "execution_count": 14,
   "id": "e09004c8",
   "metadata": {},
   "outputs": [
    {
     "name": "stdout",
     "output_type": "stream",
     "text": [
      "FEATURE RANKED BY IMPORTANCE\n",
      "1. Churn Score, drop: 0.11186612853831424\n",
      "2. Dependents, drop: 0.0029978413450884034\n",
      "3. Streaming TV, drop: 0.0006309148264984632\n",
      "4. Phone Service, drop: 0.0004734350996790093\n",
      "5. Online Security, drop: 0.0003158308829569467\n",
      "6. Tenure Months, drop: 0.00015760421672195157\n",
      "7. Senior Citizen, drop: 1.244899024976931e-07\n",
      "8. Streaming Movies, drop: 1.244899024976931e-07\n",
      "9. NO ABLATION, drop: 0.0\n",
      "10. Zip Code, drop: -0.0003150839435415165\n",
      "11. Partner, drop: -0.00031558190315195134\n",
      "12. Monthly Charges, drop: -0.00031570639305444903\n",
      "13. Contract, drop: -0.000472688160263357\n",
      "14. Device Protection, drop: -0.00047293714006857446\n",
      "15. Online Backup, drop: -0.0006304168668879173\n",
      "16. Internet Service, drop: -0.0006306658466932458\n",
      "17. Multiple Lines, drop: -0.0009459987700397576\n",
      "18. Tech Support, drop: -0.0011042254362748638\n",
      "19. Total Charges, drop: -0.0012622031227047525\n",
      "20. Gender, drop: -0.001735140262773327\n",
      "21. Payment Method, drop: -0.0018926199895927809\n",
      "22. Paperless Billing, drop: -0.002207828423036795\n",
      "23. CLTV, drop: -0.002366179579174399\n"
     ]
    }
   ],
   "source": [
    "# this is to acquire accuracy drop log\n",
    "acc_drop_log = {}\n",
    "no_ab_score = accuracy_log[\"NO ABLATION\"]\n",
    "keys_list = list(accuracy_log.keys())\n",
    "\n",
    "for x in keys_list:\n",
    "    value = accuracy_log[x]\n",
    "    acc_drop_log[x] = no_ab_score - value\n",
    "\n",
    "acc_drop_log = dict(sorted(acc_drop_log.items(), key=lambda x:x[1],reverse = True))\n",
    "keys_listt = list(acc_drop_log.keys())\n",
    "\n",
    "print(\"FEATURE RANKED BY IMPORTANCE\")\n",
    "for i in range(len(keys_listt)):\n",
    "    feature_name = keys_listt[i]\n",
    "    value = acc_drop_log[feature_name]\n",
    "    \n",
    "    print(f\"{i+1}. {feature_name}, drop: {value}\")"
   ]
  },
  {
   "cell_type": "markdown",
   "id": "57fb5114",
   "metadata": {},
   "source": [
    "The result gives us that most of the categorical values were not actually helpful, except Dependents, Streaming TV, Phone Service, Online Security, Senior Citizen,and Streaming Movies. Another problem (which we expected) was that the model learned a lot from the Churn Score, which is already a value with calculation. So, we decided to remove this feature and others to see how things look like."
   ]
  },
  {
   "cell_type": "markdown",
   "id": "3dc9030f",
   "metadata": {},
   "source": [
    "## Best model"
   ]
  },
  {
   "cell_type": "code",
   "execution_count": 44,
   "id": "701c7914",
   "metadata": {},
   "outputs": [],
   "source": [
    "\"\"\"\n",
    "get the refined dataset\n",
    "\"\"\"\n",
    "from sklearn.preprocessing import OneHotEncoder\n",
    "\n",
    "refined_dataset = model_df[[\"Dependents\", \"Streaming TV\", \"Phone Service\",\n",
    "                            \"Online Security\", \"Senior Citizen\", \"Streaming Movies\"]]\n",
    "onehot = OneHotEncoder()\n",
    "refined_dataset_one_hot = onehot.fit_transform(refined_dataset).toarray()"
   ]
  },
  {
   "cell_type": "code",
   "execution_count": 45,
   "id": "83e14f49",
   "metadata": {},
   "outputs": [
    {
     "name": "stdout",
     "output_type": "stream",
     "text": [
      "Accuracy:  0.7335541883577852\n"
     ]
    }
   ],
   "source": [
    "from sklearn.svm import SVC\n",
    "from sklearn.metrics import accuracy_score\n",
    "from sklearn.model_selection import train_test_split\n",
    "\n",
    "# The group that performs best in the above model\n",
    "X_train, X_test, y_train, y_test = train_test_split(\n",
    "    refined_dataset_one_hot, model_label.values.reshape(-1), test_size=0.3, random_state=42)\n",
    "\n",
    "svm_poly2 = SVC(kernel=\"poly\", degree=2)\n",
    "svm_poly2.fit(X_train,y_train)\n",
    "print(\"Accuracy: \",accuracy_score(svm_poly2.predict(X_test),y_test))"
   ]
  },
  {
   "cell_type": "markdown",
   "id": "74a29b9b",
   "metadata": {},
   "source": [
    "## Test bias"
   ]
  },
  {
   "cell_type": "markdown",
   "id": "100baf50",
   "metadata": {},
   "source": [
    "### Gender"
   ]
  },
  {
   "cell_type": "code",
   "execution_count": 80,
   "id": "ae5e5dd6",
   "metadata": {},
   "outputs": [
    {
     "data": {
      "text/plain": [
       "0    3555\n",
       "1    3488\n",
       "Name: Gender_Female, dtype: int64"
      ]
     },
     "execution_count": 80,
     "metadata": {},
     "output_type": "execute_result"
    }
   ],
   "source": [
    "# Original gender ratio\n",
    "model_feature[\"Gender_Female\"].value_counts()"
   ]
  },
  {
   "cell_type": "code",
   "execution_count": 82,
   "id": "e4df91ea",
   "metadata": {},
   "outputs": [],
   "source": [
    "column_name = \"Gender_Female\"\n",
    "gender_feature = model_feature.copy()\n",
    "\"\"\"\n",
    "Generate false gender data\n",
    "\"\"\"\n",
    "# Randomly select rows to replace\n",
    "to_replace = gender_feature.loc[gender_feature[column_name].isin(\n",
    "    [0, 1])].sample(5000, random_state=42).index\n",
    "# Swap 0 and 1\n",
    "gender_feature.loc[to_replace, column_name] = gender_feature.loc[to_replace,\n",
    "                                                                 column_name].apply(lambda x: 1 if x == 0 else 1)\n",
    "gender_dict = {0: 1, 1: 0}\n",
    "gender_feature[\"Gender_Male\"] = gender_feature[\"Gender_Female\"].apply(\n",
    "    lambda x: gender_dict[x])"
   ]
  },
  {
   "cell_type": "code",
   "execution_count": 83,
   "id": "eba3019c",
   "metadata": {},
   "outputs": [
    {
     "data": {
      "text/plain": [
       "1    5995\n",
       "0    1048\n",
       "Name: Gender_Female, dtype: int64"
      ]
     },
     "execution_count": 83,
     "metadata": {},
     "output_type": "execute_result"
    }
   ],
   "source": [
    "# Gender ratio after treatment\n",
    "gender_feature[\"Gender_Female\"].value_counts()"
   ]
  },
  {
   "cell_type": "code",
   "execution_count": 84,
   "id": "d30a0e34",
   "metadata": {},
   "outputs": [],
   "source": [
    "# Merge refined datasets and gender features\n",
    "extra_feature = (gender_feature[[\"Gender_Female\",\"Gender_Male\"]]).values\n",
    "gender_feature = np.concatenate([refined_dataset_one_hot,extra_feature],axis=1)"
   ]
  },
  {
   "cell_type": "code",
   "execution_count": 85,
   "id": "b41a90aa",
   "metadata": {},
   "outputs": [
    {
     "name": "stdout",
     "output_type": "stream",
     "text": [
      "Accuracy:  0.7335541883577852\n"
     ]
    }
   ],
   "source": [
    "# split the train and test\n",
    "X_train, X_test, y_train, y_test = train_test_split(\n",
    "    gender_feature, model_label.values.reshape(-1), test_size=0.3, random_state=42)\n",
    "\n",
    "svm_poly2 = SVC(kernel=\"poly\", degree=2)\n",
    "svm_poly2.fit(X_train,y_train)\n",
    "print(\"Accuracy: \",accuracy_score(svm_poly2.predict(X_test),y_test))"
   ]
  },
  {
   "cell_type": "markdown",
   "id": "ab23f043",
   "metadata": {},
   "source": [
    "### Senior Citizen"
   ]
  },
  {
   "cell_type": "code",
   "execution_count": 86,
   "id": "54541d79",
   "metadata": {},
   "outputs": [
    {
     "data": {
      "text/plain": [
       "0    5901\n",
       "1    1142\n",
       "Name: Senior Citizen_Yes, dtype: int64"
      ]
     },
     "execution_count": 86,
     "metadata": {},
     "output_type": "execute_result"
    }
   ],
   "source": [
    "model_feature[\"Senior Citizen_Yes\"].value_counts()"
   ]
  },
  {
   "cell_type": "code",
   "execution_count": 95,
   "id": "49077baa",
   "metadata": {},
   "outputs": [],
   "source": [
    "column_name = \"Senior Citizen_Yes\"\n",
    "Seniorr_feature = model_feature.copy()\n",
    "\"\"\"\n",
    "Generate false Senior Citizen data\n",
    "\"\"\"\n",
    "# Randomly select rows to replace\n",
    "to_replace = Seniorr_feature.loc[Seniorr_feature[column_name].isin(\n",
    "    [0, 1])].sample(6500, random_state=42).index\n",
    "# Swap 0 and 1\n",
    "Seniorr_feature.loc[to_replace, column_name] = Seniorr_feature.loc[to_replace,\n",
    "                                                                 column_name].apply(lambda x: 1 if x == 0 else 1)\n",
    "Seniorr_dict = {0: 1, 1: 0}\n",
    "Seniorr_feature[\"Senior Citizen_No\"] = Seniorr_feature[\"Senior Citizen_Yes\"].apply(\n",
    "    lambda x: Seniorr_dict[x])"
   ]
  },
  {
   "cell_type": "code",
   "execution_count": 96,
   "id": "08a0cca8",
   "metadata": {},
   "outputs": [
    {
     "data": {
      "text/plain": [
       "1    6600\n",
       "0     443\n",
       "Name: Senior Citizen_Yes, dtype: int64"
      ]
     },
     "execution_count": 96,
     "metadata": {},
     "output_type": "execute_result"
    }
   ],
   "source": [
    "Seniorr_feature[\"Senior Citizen_Yes\"].value_counts()"
   ]
  },
  {
   "cell_type": "code",
   "execution_count": 97,
   "id": "9ca2514f",
   "metadata": {},
   "outputs": [],
   "source": [
    "# Merge refined datasets and Senior Citizen features\n",
    "extra_feature = (Seniorr_feature[[\"Senior Citizen_Yes\",\"Senior Citizen_No\"]]).values\n",
    "Seniorr_feature = np.concatenate([refined_dataset_one_hot,extra_feature],axis=1)"
   ]
  },
  {
   "cell_type": "code",
   "execution_count": 99,
   "id": "cb2f6321",
   "metadata": {},
   "outputs": [
    {
     "name": "stdout",
     "output_type": "stream",
     "text": [
      "Accuracy:  0.7335541883577852\n"
     ]
    }
   ],
   "source": [
    "X_train, X_test, y_train, y_test = train_test_split(\n",
    "    Seniorr_feature, model_label.values.reshape(-1), test_size=0.3, random_state=42)\n",
    "\n",
    "svm_poly2 = SVC(kernel=\"poly\", degree=2)\n",
    "svm_poly2.fit(X_train,y_train)\n",
    "print(\"Accuracy: \",accuracy_score(svm_poly2.predict(X_test),y_test))"
   ]
  },
  {
   "cell_type": "markdown",
   "id": "b45b7684",
   "metadata": {},
   "source": [
    "### Partner"
   ]
  },
  {
   "cell_type": "code",
   "execution_count": 100,
   "id": "9c51a41f",
   "metadata": {},
   "outputs": [
    {
     "data": {
      "text/plain": [
       "0    3641\n",
       "1    3402\n",
       "Name: Partner_Yes, dtype: int64"
      ]
     },
     "execution_count": 100,
     "metadata": {},
     "output_type": "execute_result"
    }
   ],
   "source": [
    "model_feature[\"Partner_Yes\"].value_counts()"
   ]
  },
  {
   "cell_type": "code",
   "execution_count": 109,
   "id": "c178f624",
   "metadata": {},
   "outputs": [],
   "source": [
    "column_name = \"Partner_Yes\"\n",
    "partner_feature = model_feature.copy()\n",
    "\"\"\"\n",
    "Generate false Partner data\n",
    "\"\"\"\n",
    "# Randomly select rows to replace\n",
    "to_replace = partner_feature.loc[partner_feature[column_name].isin(\n",
    "    [0, 1])].sample(5000, random_state=42).index\n",
    "# Swap 0 and 1\n",
    "partner_feature.loc[to_replace, column_name] = partner_feature.loc[to_replace,\n",
    "                                                                 column_name].apply(lambda x: 1 if x == 0 else 1)\n",
    "partner_dict = {0: 1, 1: 0}\n",
    "partner_feature[\"Partner_No\"] = partner_feature[\"Partner_Yes\"].apply(\n",
    "    lambda x: partner_dict[x])"
   ]
  },
  {
   "cell_type": "code",
   "execution_count": 110,
   "id": "5e7b75eb",
   "metadata": {},
   "outputs": [
    {
     "data": {
      "text/plain": [
       "1    5997\n",
       "0    1046\n",
       "Name: Partner_Yes, dtype: int64"
      ]
     },
     "execution_count": 110,
     "metadata": {},
     "output_type": "execute_result"
    }
   ],
   "source": [
    "partner_feature[\"Partner_Yes\"].value_counts()"
   ]
  },
  {
   "cell_type": "code",
   "execution_count": 111,
   "id": "3eefd75d",
   "metadata": {},
   "outputs": [],
   "source": [
    "# Merge refined datasets and Partner features\n",
    "extra_feature = (partner_feature[[\"Partner_Yes\",\"Partner_No\"]]).values\n",
    "partner_feature = np.concatenate([refined_dataset_one_hot,extra_feature],axis=1)"
   ]
  },
  {
   "cell_type": "code",
   "execution_count": 112,
   "id": "7bfd0e2d",
   "metadata": {},
   "outputs": [
    {
     "name": "stdout",
     "output_type": "stream",
     "text": [
      "Accuracy:  0.7335541883577852\n"
     ]
    }
   ],
   "source": [
    "X_train, X_test, y_train, y_test = train_test_split(\n",
    "    partner_feature, model_label.values.reshape(-1), test_size=0.3, random_state=42)\n",
    "\n",
    "svm_poly2 = SVC(kernel=\"poly\", degree=2)\n",
    "svm_poly2.fit(X_train,y_train)\n",
    "print(\"Accuracy: \",accuracy_score(svm_poly2.predict(X_test),y_test))"
   ]
  },
  {
   "cell_type": "markdown",
   "id": "f0c5b690",
   "metadata": {},
   "source": [
    "### Churn reason analysis"
   ]
  },
  {
   "cell_type": "code",
   "execution_count": 7,
   "id": "482feee4",
   "metadata": {
    "scrolled": false
   },
   "outputs": [
    {
     "name": "stdout",
     "output_type": "stream",
     "text": [
      "Attitude of support person                   192\n",
      "Competitor offered higher download speeds    189\n",
      "Competitor offered more data                 162\n",
      "Don't know                                   154\n",
      "Competitor made better offer                 140\n",
      "Attitude of service provider                 135\n",
      "Competitor had better devices                130\n",
      "Network reliability                          103\n",
      "Product dissatisfaction                      102\n",
      "Price too high                                98\n",
      "Service dissatisfaction                       89\n",
      "Lack of self-service on Website               88\n",
      "Extra data charges                            57\n",
      "Moved                                         53\n",
      "Limited range of services                     44\n",
      "Long distance charges                         44\n",
      "Lack of affordable download/upload speed      44\n",
      "Poor expertise of phone support               20\n",
      "Poor expertise of online support              19\n",
      "Deceased                                       6\n",
      "Name: Churn Reason, dtype: int64\n"
     ]
    }
   ],
   "source": [
    "reason_counts = churn_reason_df[\"Churn Reason\"].value_counts()\n",
    "print(reason_counts)"
   ]
  },
  {
   "cell_type": "markdown",
   "id": "a92a4998",
   "metadata": {},
   "source": [
    "Shows the list of unique reasons and their respective counts."
   ]
  },
  {
   "cell_type": "code",
   "execution_count": 9,
   "id": "ecd606ff",
   "metadata": {
    "scrolled": true
   },
   "outputs": [
    {
     "data": {
      "image/png": "[encoded data removed]",
      "text/plain": [
       "<Figure size 640x480 with 1 Axes>"
      ]
     },
     "metadata": {},
     "output_type": "display_data"
    }
   ],
   "source": [
    "import matplotlib.pyplot as plt\n",
    "\n",
    "plt.bar(reason_counts.index, reason_counts.values)\n",
    "plt.xticks(rotation=90)\n",
    "plt.show()"
   ]
  },
  {
   "cell_type": "markdown",
   "id": "956a70c7",
   "metadata": {},
   "source": [
    "*** Solutions ***\n",
    "\n",
    "Here are some possible solutions that we can take to help mitigate the churn rate. \n",
    "1. Improve attitude and behavior of service providers and support persons since the are the top reasons for customer churn rates\n",
    "2. Improve the quality of of devices and offers to help compete the competition\n",
    "3. Provide faster download times, more data, and reasonable prices\n",
    "4. Improve the user experience for customers by offering self-service alternatives on the website\n",
    "5. Broaden the scope of offerings to better serve clients' various demands\n",
    "6. Lower long-distance and additional data costs to retain customers\n",
    "7. Enhance network dependability\n",
    "8. Improve the knowledge of the phone and online support personnel to swiftly handle client difficulties\n",
    "9. Address complaints about your products and services\n",
    "\n",
    "It is crucial to remember that while these solutions can dramatically reduce customer turnover and raise overall customer satisfaction, they may not totally eliminate it."
   ]
  },
  {
   "cell_type": "markdown",
   "id": "551fb462",
   "metadata": {},
   "source": [
    "## Conclusion"
   ]
  },
  {
   "cell_type": "markdown",
   "id": "e5432c52",
   "metadata": {},
   "source": [
    "In this scenario, we used a model to predict customer churn which had an accuracy of 0.73355. We then sequentially changed gender, age, and partner variables to test the model's bias towards certain social factors.\n",
    "\n",
    "First, we changed gender by labeling all male customers as 1 and all female customers as 0. This resulted in a slight increase in the model's accuracy, from 0.7335541883577852 to 0.7345007098911502, which is a change of only 0.000946521533365. This suggests that gender has a minimal effect on the model's predictions and that there is no bias towards gender.\n",
    "\n",
    "Next, we changed age by labeling all customers under 65 as 0 and all customers 65 and above as 1. In this case, the model's predicted accuracy remained the same at 0.7335541883577852. We can conclude that the model has no bias towards the age variable.\n",
    "\n",
    "Finally, we changed the partner variable by labeling all customers without a partner (Partner=0) as 1 and all customers with a partner (Partner=1) as 0. This resulted in an increase in the model's predicted accuracy from 0.7335541883577852 to 0.73739375295788, which is a relative increase of 0.0038395646000948. This suggests that there is a correlation between the partner variable and customer churn, and that the model may have bias towards retaining customers with a partner.\n",
    "\n",
    "In conclusion, through our experiments with these three variables, we can see that the model has differing biases towards different social factors. For gender and age variables, the model is objective and has no bias, while for the partner variable, the model may have a bias towards retaining customers with a partner. We should be mindful of and avoid any biases in our models and ensure diversity and objectivity in our data when building machine learning models."
   ]
  }
 ],
 "metadata": {
  "kernelspec": {
   "display_name": "Python 3 (ipykernel)",
   "language": "python",
   "name": "python3"
  },
  "language_info": {
   "codemirror_mode": {
    "name": "ipython",
    "version": 3
   },
   "file_extension": ".py",
   "mimetype": "text/x-python",
   "name": "python",
   "nbconvert_exporter": "python",
   "pygments_lexer": "ipython3",
   "version": "3.9.13"
  },
  "toc": {
   "base_numbering": 1,
   "nav_menu": {},
   "number_sections": true,
   "sideBar": true,
   "skip_h1_title": false,
   "title_cell": "Table of Contents",
   "title_sidebar": "Contents",
   "toc_cell": false,
   "toc_position": {},
   "toc_section_display": true,
   "toc_window_display": false
  },
  "varInspector": {
   "cols": {
    "lenName": 16,
    "lenType": 16,
    "lenVar": 40
   },
   "kernels_config": {
    "python": {
     "delete_cmd_postfix": "",
     "delete_cmd_prefix": "del ",
     "library": "var_list.py",
     "varRefreshCmd": "print(var_dic_list())"
    },
    "r": {
     "delete_cmd_postfix": ") ",
     "delete_cmd_prefix": "rm(",
     "library": "var_list.r",
     "varRefreshCmd": "cat(var_dic_list()) "
    }
   },
   "types_to_exclude": [
    "module",
    "function",
    "builtin_function_or_method",
    "instance",
    "_Feature"
   ],
   "window_display": false
  }
 },
 "nbformat": 4,
 "nbformat_minor": 5
}
